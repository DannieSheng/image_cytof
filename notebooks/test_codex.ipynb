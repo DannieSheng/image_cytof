{
 "cells": [
  {
   "cell_type": "code",
   "execution_count": 2,
   "metadata": {},
   "outputs": [],
   "source": [
    "import os\n",
    "import pandas as pd\n",
    "import sys\n",
    "sys.path.append('../cytof')\n",
    "\n",
    "from hyperion_preprocess import cytof_read_data_roi"
   ]
  },
  {
   "cell_type": "code",
   "execution_count": 3,
   "metadata": {},
   "outputs": [],
   "source": [
    "dir_data = \"/archive/DPDS/Xiao_lab/shared/hudanyun_sheng/github/image_cytof_test_data/CODEX/\"\n",
    "for fname in os.listdir(dir_data):\n",
    "    df = pd.read_csv(os.path.join(dir_data, fname))"
   ]
  },
  {
   "cell_type": "code",
   "execution_count": 4,
   "metadata": {},
   "outputs": [],
   "source": [
    "import pathlib\n",
    "from classes import CytofImage, CytofImageTiff\n",
    "\n",
    "def cytof_read_data_roi(filename, slide=\"\", roi=None, iltype=\"hwd\"):\n",
    "    \"\"\" Read cytof data (.txt file) as a dataframe\n",
    "\n",
    "    Inputs:\n",
    "        filename = full filename of the cytof data (path-name-ext)\n",
    "\n",
    "    Returns:\n",
    "        df_cytof = dataframe of the cytof data\n",
    "\n",
    "    :param filename: str\n",
    "    :return df_cytof: pandas.core.frame.DataFrame\n",
    "    \"\"\"\n",
    "    ext = pathlib.Path(filename).suffix\n",
    "    assert len(ext) > 0, \"Please provide a full file name with extension!\"\n",
    "    assert ext.upper() in ['.TXT', '.CSV', '.TIFF'], \"filetypes other than '.txt' or '.tiff' not supported now!\"\n",
    "\n",
    "    if ext in ['.txt', '.csv']: # tabular\n",
    "        if ext == '.txt':\n",
    "            df_cytof = pd.read_table(filename)\n",
    "#             if roi is None:\n",
    "#                 roi = os.path.basename(filename).split('.txt')[0]\n",
    "#             # initialize an instance of CytofImage\n",
    "#             cytof_img = CytofImage(df_cytof, slide=slide, roi=roi, filename=filename)\n",
    "\n",
    "        elif ext == '.csv':\n",
    "            df_cytof = pd.read_csv(filename)\n",
    "        \n",
    "        if roi is None:\n",
    "            roi = os.path.basename(filename).split('.txt')[0]\n",
    "        # initialize an instance of CytofImage\n",
    "        cytof_img = CytofImage(df_cytof, slide=slide, roi=roi, filename=filename)\n",
    "\n",
    "    elif ext == '.tiff': # image\n",
    "        image = skio.imread(filename, plugin=\"tifffile\")\n",
    "        if iltype != \"hwd\":\n",
    "            image = image.transpose(np.argsort(['hwd'.index(x) for x in iltype]))\n",
    "        cytof_img = CytofImageTiff(image, slide=\"\", roi=\"\", filename=\"\")\n",
    "    return cytof_img"
   ]
  },
  {
   "cell_type": "code",
   "execution_count": 5,
   "metadata": {},
   "outputs": [],
   "source": [
    "# read data: file name (.csv file) -> dataframe\n",
    "cytof_img = cytof_read_data_roi(os.path.join(dir_data, fname))"
   ]
  },
  {
   "cell_type": "code",
   "execution_count": 43,
   "metadata": {},
   "outputs": [
    {
     "data": {
      "text/plain": [
       "['X', 'Y']"
      ]
     },
     "execution_count": 43,
     "metadata": {},
     "output_type": "execute_result"
    }
   ],
   "source": [
    "dict_xy = {\"X (X):X (X)\": \"X\", \"Y (Y):Y (Y)\": \"Y\"}\n",
    "list(dict_xy.values())"
   ]
  },
  {
   "cell_type": "code",
   "execution_count": 6,
   "metadata": {},
   "outputs": [],
   "source": [
    "def set_XY(self, dict_xy):\n",
    "    \"\"\"\n",
    "    Args:\n",
    "        dict_xy: old -> new\n",
    "    \"\"\"\n",
    "    self.df.rename(columns = dict_xy, inplace = True)\n",
    "\n",
    "dict_xy = {\"X (X):X (X)\": \"X\", \"Y (Y):Y (Y)\": \"Y\"}\n",
    "set_XY(cytof_img, dict_xy)"
   ]
  },
  {
   "cell_type": "code",
   "execution_count": null,
   "metadata": {},
   "outputs": [],
   "source": [
    "# marker-label\n",
    "pattern  = '(.+) \\((.+)\\):(.+) \\((.+)\\)'\n",
    "metadata = [\"protein\", \"marker\",\"protein\", \"marker\"]\n",
    "colname  = 'Cyc_2_ch_4 (CD56):Cyc_2_ch_4 (CD56)'\n"
   ]
  },
  {
   "cell_type": "code",
   "execution_count": 39,
   "metadata": {},
   "outputs": [
    {
     "data": {
      "text/plain": [
       "[('Cyc_2_ch_4', 'CD56', 'Cyc_2_ch_4', 'CD56')]"
      ]
     },
     "execution_count": 39,
     "metadata": {},
     "output_type": "execute_result"
    }
   ],
   "source": [
    "# marker-label\n",
    "pattern  = '(.+) \\((.+)\\):(.+) \\((.+)\\)'\n",
    "metadata = [\"protein\", \"marker\",\"protein\", \"marker\"]\n",
    "colname  = 'Cyc_2_ch_4 (CD56):Cyc_2_ch_4 (CD56)'\n",
    "\n",
    "# pattern  = \"(\\w+.*)\\((\\w+\\))\"# '(w.+*)\\((w+)\\)'\n",
    "# # metadata = \n",
    "# colname  = 'CD38(Pr141Di)'\n",
    "\n",
    "re.findall(pattern, colname)"
   ]
  },
  {
   "cell_type": "code",
   "execution_count": 7,
   "metadata": {},
   "outputs": [],
   "source": [
    "import re\n",
    "def get_markers(self, imarker0=None, markers=None, pattern=\"\\w+.*\\(\\w+\\)\"):\n",
    "    \"\"\" Get (1) channels: a list of channel names correspond to each image channel\n",
    "            (2) markers: a list of protein markers used to obtain the image\n",
    "            (3) a list of labels tagged to each of the protein markers\n",
    "    Args:\n",
    "        pattern = [None, 'cytof', string]\n",
    "            None: No filtering\n",
    "            'cytof': \"\\w+.*\\(\\w+\\)\" filtering\n",
    "            string: customized regular expression\n",
    "            TODO: contact hudanyun.sheng@utsouthwestern.edu\n",
    "        markers: If not None, a list of column names (?)\n",
    "    \"\"\"\n",
    "    if markers is None:\n",
    "        self.raw_channels = list(self.df.columns).copy()\n",
    "        self.raw_channels.pop('X')\n",
    "        self.raw_channels.pop('Y')\n",
    "    \n",
    "    if pattern is None:\n",
    "        ## Channels = markers\n",
    "        \n",
    "    elif pattern == 'cytof':\n",
    "        pattern = \"\\w+.*\\(\\w+\\)\"\n",
    "        \n",
    "    self.columns = list(self.df.columns)\n",
    "    if imarker0 is not None:  # if the index of the 1st marker provided\n",
    "        self.raw_channels = self.columns[imarker0:]\n",
    "    else:  # assumption: channel names have the common expression: marker(label*)\n",
    "\n",
    "        self.raw_channels = [re.findall(pattern, t)[0] for t in self.columns if len(re.findall(pattern, t)) > 0]\n",
    "\n",
    "    self.raw_markers = [x.split('(')[0] for x in self.raw_channels]\n",
    "    self.raw_labels = [x.split('(')[-1].split(')')[0] for x in self.raw_channels]\n",
    "\n",
    "    self.channels = self.raw_channels.copy()\n",
    "    self.markers  = self.raw_markers.copy()\n",
    "    self.labels   = self.raw_labels.copy()"
   ]
  },
  {
   "cell_type": "code",
   "execution_count": 14,
   "metadata": {},
   "outputs": [
    {
     "data": {
      "text/plain": [
       "[('Cyc_2_ch_4', 'CD56', 'Cyc_2_ch_4', 'CD56')]"
      ]
     },
     "execution_count": 14,
     "metadata": {},
     "output_type": "execute_result"
    }
   ],
   "source": [
    "re.findall('(.+) \\((.+)\\):(.+) \\((.+)\\)', 'Cyc_2_ch_4 (CD56):Cyc_2_ch_4 (CD56)')"
   ]
  },
  {
   "cell_type": "code",
   "execution_count": 34,
   "metadata": {},
   "outputs": [
    {
     "data": {
      "text/plain": [
       "True"
      ]
     },
     "execution_count": 34,
     "metadata": {},
     "output_type": "execute_result"
    }
   ],
   "source": [
    "import numpy as np\n",
    "cytof_img.df['File Name'].dtype == 'O'"
   ]
  },
  {
   "cell_type": "code",
   "execution_count": 22,
   "metadata": {},
   "outputs": [
    {
     "data": {
      "text/html": [
       "<div>\n",
       "<style scoped>\n",
       "    .dataframe tbody tr th:only-of-type {\n",
       "        vertical-align: middle;\n",
       "    }\n",
       "\n",
       "    .dataframe tbody tr th {\n",
       "        vertical-align: top;\n",
       "    }\n",
       "\n",
       "    .dataframe thead th {\n",
       "        text-align: right;\n",
       "    }\n",
       "</style>\n",
       "<table border=\"1\" class=\"dataframe\">\n",
       "  <thead>\n",
       "    <tr style=\"text-align: right;\">\n",
       "      <th></th>\n",
       "      <th>ClusterID</th>\n",
       "      <th>EventID</th>\n",
       "      <th>File Name</th>\n",
       "      <th>Index in File</th>\n",
       "      <th>Event Name</th>\n",
       "      <th>Comment</th>\n",
       "      <th>Cyc_2_ch_4 (CD56):Cyc_2_ch_4 (CD56)</th>\n",
       "      <th>Cyc_3_ch_3 (FoxP3):Cyc_3_ch_3 (FoxP3)</th>\n",
       "      <th>Cyc_3_ch_4 (CD21):Cyc_3_ch_4 (CD21)</th>\n",
       "      <th>Cyc_4_ch_2 (MUC1):Cyc_4_ch_2 (MUC1)</th>\n",
       "      <th>...</th>\n",
       "      <th>Cyc_22_ch_3 (CD138):Cyc_22_ch_3 (CD138)</th>\n",
       "      <th>Cyc_22_ch_4 (Arginase1):Cyc_22_ch_4 (Arginase1)</th>\n",
       "      <th>Cyc_23_ch_3 (CD73):Cyc_23_ch_3 (CD73)</th>\n",
       "      <th>Cyc_23_ch_4 (CD206):Cyc_23_ch_4 (CD206)</th>\n",
       "      <th>Cyc_24_ch_4 (COX2):Cyc_24_ch_4 (COX2)</th>\n",
       "      <th>Cyc_25_ch_3 (MMP9):Cyc_25_ch_3 (MMP9)</th>\n",
       "      <th>X</th>\n",
       "      <th>Y</th>\n",
       "      <th>Cyc_2_ch_3 (PDL1):Cyc_2_ch_3 (PDL1)</th>\n",
       "      <th>Cyc_10_ch_3 (p53):Cyc_10_ch_3 (p53)</th>\n",
       "    </tr>\n",
       "  </thead>\n",
       "  <tbody>\n",
       "    <tr>\n",
       "      <th>0</th>\n",
       "      <td>2412</td>\n",
       "      <td>7</td>\n",
       "      <td>reg001_Compensated_Z planes</td>\n",
       "      <td>7</td>\n",
       "      <td>7</td>\n",
       "      <td>NaN</td>\n",
       "      <td>208.876328</td>\n",
       "      <td>0.002347</td>\n",
       "      <td>0.000348</td>\n",
       "      <td>-0.000597</td>\n",
       "      <td>...</td>\n",
       "      <td>0.000497</td>\n",
       "      <td>271.666809</td>\n",
       "      <td>261.453430</td>\n",
       "      <td>430.244415</td>\n",
       "      <td>56.049427</td>\n",
       "      <td>-0.000393</td>\n",
       "      <td>3.0</td>\n",
       "      <td>288.0</td>\n",
       "      <td>150.706512</td>\n",
       "      <td>235.618027</td>\n",
       "    </tr>\n",
       "    <tr>\n",
       "      <th>1</th>\n",
       "      <td>2412</td>\n",
       "      <td>9</td>\n",
       "      <td>reg001_Compensated_Z planes</td>\n",
       "      <td>9</td>\n",
       "      <td>9</td>\n",
       "      <td>NaN</td>\n",
       "      <td>524.119873</td>\n",
       "      <td>-0.000855</td>\n",
       "      <td>41.845718</td>\n",
       "      <td>-0.001695</td>\n",
       "      <td>...</td>\n",
       "      <td>-0.000725</td>\n",
       "      <td>0.000634</td>\n",
       "      <td>1684.988281</td>\n",
       "      <td>-0.000210</td>\n",
       "      <td>-0.000051</td>\n",
       "      <td>0.001196</td>\n",
       "      <td>0.0</td>\n",
       "      <td>357.0</td>\n",
       "      <td>0.000000</td>\n",
       "      <td>0.000000</td>\n",
       "    </tr>\n",
       "    <tr>\n",
       "      <th>2</th>\n",
       "      <td>2412</td>\n",
       "      <td>12</td>\n",
       "      <td>reg001_Compensated_Z planes</td>\n",
       "      <td>12</td>\n",
       "      <td>12</td>\n",
       "      <td>NaN</td>\n",
       "      <td>26.963015</td>\n",
       "      <td>0.000171</td>\n",
       "      <td>284.727112</td>\n",
       "      <td>0.001427</td>\n",
       "      <td>...</td>\n",
       "      <td>0.000697</td>\n",
       "      <td>310.491180</td>\n",
       "      <td>0.000323</td>\n",
       "      <td>343.787781</td>\n",
       "      <td>36.308777</td>\n",
       "      <td>0.000140</td>\n",
       "      <td>0.0</td>\n",
       "      <td>432.0</td>\n",
       "      <td>0.000000</td>\n",
       "      <td>0.000000</td>\n",
       "    </tr>\n",
       "    <tr>\n",
       "      <th>3</th>\n",
       "      <td>2412</td>\n",
       "      <td>15</td>\n",
       "      <td>reg001_Compensated_Z planes</td>\n",
       "      <td>15</td>\n",
       "      <td>15</td>\n",
       "      <td>NaN</td>\n",
       "      <td>36.401138</td>\n",
       "      <td>0.000741</td>\n",
       "      <td>98.835175</td>\n",
       "      <td>-0.000244</td>\n",
       "      <td>...</td>\n",
       "      <td>-0.001205</td>\n",
       "      <td>187.544769</td>\n",
       "      <td>-0.000955</td>\n",
       "      <td>0.000148</td>\n",
       "      <td>11.342896</td>\n",
       "      <td>0.000986</td>\n",
       "      <td>0.0</td>\n",
       "      <td>478.0</td>\n",
       "      <td>0.000000</td>\n",
       "      <td>0.000000</td>\n",
       "    </tr>\n",
       "    <tr>\n",
       "      <th>4</th>\n",
       "      <td>2412</td>\n",
       "      <td>17</td>\n",
       "      <td>reg001_Compensated_Z planes</td>\n",
       "      <td>17</td>\n",
       "      <td>17</td>\n",
       "      <td>NaN</td>\n",
       "      <td>86.979965</td>\n",
       "      <td>-0.000445</td>\n",
       "      <td>45.013542</td>\n",
       "      <td>-0.000433</td>\n",
       "      <td>...</td>\n",
       "      <td>-0.000173</td>\n",
       "      <td>1435.536377</td>\n",
       "      <td>100.552376</td>\n",
       "      <td>0.000222</td>\n",
       "      <td>57.033249</td>\n",
       "      <td>-0.003303</td>\n",
       "      <td>8.0</td>\n",
       "      <td>205.0</td>\n",
       "      <td>25.728107</td>\n",
       "      <td>1414.393311</td>\n",
       "    </tr>\n",
       "  </tbody>\n",
       "</table>\n",
       "<p>5 rows × 49 columns</p>\n",
       "</div>"
      ],
      "text/plain": [
       "   ClusterID  EventID                    File Name  Index in File  Event Name  \\\n",
       "0       2412        7  reg001_Compensated_Z planes              7           7   \n",
       "1       2412        9  reg001_Compensated_Z planes              9           9   \n",
       "2       2412       12  reg001_Compensated_Z planes             12          12   \n",
       "3       2412       15  reg001_Compensated_Z planes             15          15   \n",
       "4       2412       17  reg001_Compensated_Z planes             17          17   \n",
       "\n",
       "   Comment  Cyc_2_ch_4 (CD56):Cyc_2_ch_4 (CD56)  \\\n",
       "0      NaN                           208.876328   \n",
       "1      NaN                           524.119873   \n",
       "2      NaN                            26.963015   \n",
       "3      NaN                            36.401138   \n",
       "4      NaN                            86.979965   \n",
       "\n",
       "   Cyc_3_ch_3 (FoxP3):Cyc_3_ch_3 (FoxP3)  Cyc_3_ch_4 (CD21):Cyc_3_ch_4 (CD21)  \\\n",
       "0                               0.002347                             0.000348   \n",
       "1                              -0.000855                            41.845718   \n",
       "2                               0.000171                           284.727112   \n",
       "3                               0.000741                            98.835175   \n",
       "4                              -0.000445                            45.013542   \n",
       "\n",
       "   Cyc_4_ch_2 (MUC1):Cyc_4_ch_2 (MUC1)  ...  \\\n",
       "0                            -0.000597  ...   \n",
       "1                            -0.001695  ...   \n",
       "2                             0.001427  ...   \n",
       "3                            -0.000244  ...   \n",
       "4                            -0.000433  ...   \n",
       "\n",
       "   Cyc_22_ch_3 (CD138):Cyc_22_ch_3 (CD138)  \\\n",
       "0                                 0.000497   \n",
       "1                                -0.000725   \n",
       "2                                 0.000697   \n",
       "3                                -0.001205   \n",
       "4                                -0.000173   \n",
       "\n",
       "   Cyc_22_ch_4 (Arginase1):Cyc_22_ch_4 (Arginase1)  \\\n",
       "0                                       271.666809   \n",
       "1                                         0.000634   \n",
       "2                                       310.491180   \n",
       "3                                       187.544769   \n",
       "4                                      1435.536377   \n",
       "\n",
       "   Cyc_23_ch_3 (CD73):Cyc_23_ch_3 (CD73)  \\\n",
       "0                             261.453430   \n",
       "1                            1684.988281   \n",
       "2                               0.000323   \n",
       "3                              -0.000955   \n",
       "4                             100.552376   \n",
       "\n",
       "   Cyc_23_ch_4 (CD206):Cyc_23_ch_4 (CD206)  \\\n",
       "0                               430.244415   \n",
       "1                                -0.000210   \n",
       "2                               343.787781   \n",
       "3                                 0.000148   \n",
       "4                                 0.000222   \n",
       "\n",
       "   Cyc_24_ch_4 (COX2):Cyc_24_ch_4 (COX2)  \\\n",
       "0                              56.049427   \n",
       "1                              -0.000051   \n",
       "2                              36.308777   \n",
       "3                              11.342896   \n",
       "4                              57.033249   \n",
       "\n",
       "   Cyc_25_ch_3 (MMP9):Cyc_25_ch_3 (MMP9)    X      Y  \\\n",
       "0                              -0.000393  3.0  288.0   \n",
       "1                               0.001196  0.0  357.0   \n",
       "2                               0.000140  0.0  432.0   \n",
       "3                               0.000986  0.0  478.0   \n",
       "4                              -0.003303  8.0  205.0   \n",
       "\n",
       "   Cyc_2_ch_3 (PDL1):Cyc_2_ch_3 (PDL1)  Cyc_10_ch_3 (p53):Cyc_10_ch_3 (p53)  \n",
       "0                           150.706512                           235.618027  \n",
       "1                             0.000000                             0.000000  \n",
       "2                             0.000000                             0.000000  \n",
       "3                             0.000000                             0.000000  \n",
       "4                            25.728107                          1414.393311  \n",
       "\n",
       "[5 rows x 49 columns]"
      ]
     },
     "execution_count": 22,
     "metadata": {},
     "output_type": "execute_result"
    }
   ],
   "source": [
    "cytof_img.df.head()"
   ]
  },
  {
   "cell_type": "code",
   "execution_count": 8,
   "metadata": {},
   "outputs": [],
   "source": [
    "## TODO: come up with better regular expression\n",
    "\n",
    "channel_pattern = \"\\w+.*\\(\\w+\\):\\w+.*\\(\\w+\\)\"\n",
    "get_markers(cytof_img, pattern=channel_pattern)"
   ]
  },
  {
   "cell_type": "code",
   "execution_count": null,
   "metadata": {},
   "outputs": [],
   "source": [
    "def preprocess(self):\n",
    "    nrow = max(self.df['Y'].values) + 1\n",
    "    ncol = max(self.df['X'].values) + 1\n",
    "    n = len(self.df)\n",
    "    if nrow * ncol > n:\n",
    "        df2 = pd.DataFrame(np.zeros((nrow * ncol - n, len(self.df.columns)), dtype=int),\n",
    "                           columns=self.df.columns)\n",
    "        self.df = pd.concat([self.df, df2])"
   ]
  },
  {
   "cell_type": "code",
   "execution_count": 23,
   "metadata": {},
   "outputs": [
    {
     "ename": "TypeError",
     "evalue": "'numpy.float64' object cannot be interpreted as an integer",
     "output_type": "error",
     "traceback": [
      "\u001b[0;31m---------------------------------------------------------------------------\u001b[0m",
      "\u001b[0;31mTypeError\u001b[0m                                 Traceback (most recent call last)",
      "Input \u001b[0;32mIn [23]\u001b[0m, in \u001b[0;36m<cell line: 1>\u001b[0;34m()\u001b[0m\n\u001b[0;32m----> 1\u001b[0m \u001b[43mcytof_img\u001b[49m\u001b[38;5;241;43m.\u001b[39;49m\u001b[43mpreprocess\u001b[49m\u001b[43m(\u001b[49m\u001b[43m)\u001b[49m\n",
      "File \u001b[0;32m/endosome/archive/DPDS/Xiao_lab/shared/hudanyun_sheng/github/image_cytof/cytof/classes.py:79\u001b[0m, in \u001b[0;36mCytofImage.preprocess\u001b[0;34m(self)\u001b[0m\n\u001b[1;32m     77\u001b[0m n \u001b[38;5;241m=\u001b[39m \u001b[38;5;28mlen\u001b[39m(\u001b[38;5;28mself\u001b[39m\u001b[38;5;241m.\u001b[39mdf)\n\u001b[1;32m     78\u001b[0m \u001b[38;5;28;01mif\u001b[39;00m nrow \u001b[38;5;241m*\u001b[39m ncol \u001b[38;5;241m>\u001b[39m n:\n\u001b[0;32m---> 79\u001b[0m     df2 \u001b[38;5;241m=\u001b[39m pd\u001b[38;5;241m.\u001b[39mDataFrame(\u001b[43mnp\u001b[49m\u001b[38;5;241;43m.\u001b[39;49m\u001b[43mzeros\u001b[49m\u001b[43m(\u001b[49m\u001b[43m(\u001b[49m\u001b[43mnrow\u001b[49m\u001b[43m \u001b[49m\u001b[38;5;241;43m*\u001b[39;49m\u001b[43m \u001b[49m\u001b[43mncol\u001b[49m\u001b[43m \u001b[49m\u001b[38;5;241;43m-\u001b[39;49m\u001b[43m \u001b[49m\u001b[43mn\u001b[49m\u001b[43m,\u001b[49m\u001b[43m \u001b[49m\u001b[38;5;28;43mlen\u001b[39;49m\u001b[43m(\u001b[49m\u001b[38;5;28;43mself\u001b[39;49m\u001b[38;5;241;43m.\u001b[39;49m\u001b[43mdf\u001b[49m\u001b[38;5;241;43m.\u001b[39;49m\u001b[43mcolumns\u001b[49m\u001b[43m)\u001b[49m\u001b[43m)\u001b[49m\u001b[43m,\u001b[49m\u001b[43m \u001b[49m\u001b[43mdtype\u001b[49m\u001b[38;5;241;43m=\u001b[39;49m\u001b[38;5;28;43mint\u001b[39;49m\u001b[43m)\u001b[49m,\n\u001b[1;32m     80\u001b[0m                        columns\u001b[38;5;241m=\u001b[39m\u001b[38;5;28mself\u001b[39m\u001b[38;5;241m.\u001b[39mdf\u001b[38;5;241m.\u001b[39mcolumns)\n\u001b[1;32m     81\u001b[0m     \u001b[38;5;28mself\u001b[39m\u001b[38;5;241m.\u001b[39mdf \u001b[38;5;241m=\u001b[39m pd\u001b[38;5;241m.\u001b[39mconcat([\u001b[38;5;28mself\u001b[39m\u001b[38;5;241m.\u001b[39mdf, df2])\n",
      "\u001b[0;31mTypeError\u001b[0m: 'numpy.float64' object cannot be interpreted as an integer"
     ]
    }
   ],
   "source": [
    "cytof_img.preprocess()"
   ]
  },
  {
   "cell_type": "code",
   "execution_count": 25,
   "metadata": {},
   "outputs": [
    {
     "data": {
      "text/plain": [
       "0            3.0\n",
       "1            0.0\n",
       "2            0.0\n",
       "3            0.0\n",
       "4            8.0\n",
       "           ...  \n",
       "192136    8241.0\n",
       "192137    8346.0\n",
       "192138    8366.0\n",
       "192139    9173.0\n",
       "192140    9312.0\n",
       "Name: X, Length: 192141, dtype: float64"
      ]
     },
     "execution_count": 25,
     "metadata": {},
     "output_type": "execute_result"
    }
   ],
   "source": [
    "cytof_img.df['X']"
   ]
  },
  {
   "cell_type": "code",
   "execution_count": null,
   "metadata": {},
   "outputs": [],
   "source": []
  }
 ],
 "metadata": {
  "kernelspec": {
   "display_name": "image_cytof",
   "language": "python",
   "name": "image_cytof"
  },
  "language_info": {
   "codemirror_mode": {
    "name": "ipython",
    "version": 3
   },
   "file_extension": ".py",
   "mimetype": "text/x-python",
   "name": "python",
   "nbconvert_exporter": "python",
   "pygments_lexer": "ipython3",
   "version": "3.8.0"
  }
 },
 "nbformat": 4,
 "nbformat_minor": 4
}
